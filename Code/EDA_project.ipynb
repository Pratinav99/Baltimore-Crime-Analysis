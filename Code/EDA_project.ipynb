{
 "cells": [
  {
   "cell_type": "code",
   "execution_count": 1,
   "id": "90421da9",
   "metadata": {},
   "outputs": [
    {
     "ename": "ModuleNotFoundError",
     "evalue": "No module named 'geopandas'",
     "output_type": "error",
     "traceback": [
      "\u001b[1;31m---------------------------------------------------------------------------\u001b[0m",
      "\u001b[1;31mModuleNotFoundError\u001b[0m                       Traceback (most recent call last)",
      "Cell \u001b[1;32mIn[1], line 5\u001b[0m\n\u001b[0;32m      3\u001b[0m \u001b[38;5;28;01mimport\u001b[39;00m \u001b[38;5;21;01mmatplotlib\u001b[39;00m\u001b[38;5;21;01m.\u001b[39;00m\u001b[38;5;21;01mpyplot\u001b[39;00m \u001b[38;5;28;01mas\u001b[39;00m \u001b[38;5;21;01mplt\u001b[39;00m\n\u001b[0;32m      4\u001b[0m \u001b[38;5;28;01mimport\u001b[39;00m \u001b[38;5;21;01mseaborn\u001b[39;00m \u001b[38;5;28;01mas\u001b[39;00m \u001b[38;5;21;01msns\u001b[39;00m\n\u001b[1;32m----> 5\u001b[0m \u001b[38;5;28;01mimport\u001b[39;00m \u001b[38;5;21;01mgeopandas\u001b[39;00m \u001b[38;5;28;01mas\u001b[39;00m \u001b[38;5;21;01mgps\u001b[39;00m\n\u001b[0;32m      6\u001b[0m \u001b[38;5;28;01mfrom\u001b[39;00m \u001b[38;5;21;01mdataprep\u001b[39;00m\u001b[38;5;21;01m.\u001b[39;00m\u001b[38;5;21;01meda\u001b[39;00m \u001b[38;5;28;01mimport\u001b[39;00m \u001b[38;5;241m*\u001b[39m\n\u001b[0;32m      7\u001b[0m \u001b[38;5;28;01mimport\u001b[39;00m \u001b[38;5;21;01mwarnings\u001b[39;00m\n",
      "\u001b[1;31mModuleNotFoundError\u001b[0m: No module named 'geopandas'"
     ]
    }
   ],
   "source": [
    "import numpy as np\n",
    "import pandas as pd\n",
    "import matplotlib.pyplot as plt\n",
    "import seaborn as sns\n",
    "import geopandas as gps\n",
    "from dataprep.eda import *\n",
    "import warnings\n",
    "warnings.filterwarnings(\"ignore\")"
   ]
  },
  {
   "cell_type": "code",
   "execution_count": null,
   "id": "7b621e83-6501-42d3-a4e6-0101474f02e3",
   "metadata": {},
   "outputs": [],
   "source": [
    "df = pd.read_excel(\"Baltimore_Crime_Data_2022.xlsx\")"
   ]
  },
  {
   "cell_type": "code",
   "execution_count": null,
   "id": "8afe8a0c-3785-4245-9bb5-5fb50dd2e57d",
   "metadata": {},
   "outputs": [],
   "source": [
    "df.head()"
   ]
  },
  {
   "cell_type": "code",
   "execution_count": null,
   "id": "b4218db5-4cd3-4a5f-8748-4742164139da",
   "metadata": {},
   "outputs": [],
   "source": [
    "df.shape"
   ]
  },
  {
   "cell_type": "code",
   "execution_count": null,
   "id": "a535dd57",
   "metadata": {},
   "outputs": [],
   "source": [
    "df.describe()"
   ]
  },
  {
   "cell_type": "code",
   "execution_count": null,
   "id": "20b21831",
   "metadata": {},
   "outputs": [],
   "source": [
    "df.info()"
   ]
  },
  {
   "cell_type": "code",
   "execution_count": null,
   "id": "cffc6ed6",
   "metadata": {},
   "outputs": [],
   "source": [
    "df.duplicated().any()"
   ]
  },
  {
   "cell_type": "code",
   "execution_count": null,
   "id": "e7ff77d2",
   "metadata": {},
   "outputs": [],
   "source": [
    "df.isnull().sum()"
   ]
  },
  {
   "cell_type": "code",
   "execution_count": null,
   "id": "6f634599",
   "metadata": {},
   "outputs": [],
   "source": [
    "# Get unique value counts\n",
    "null_counts = [df[col].isnull().sum() for col in df.columns]\n",
    "\n",
    "# Create a bar plot\n",
    "sns.barplot(x=list(df.columns), y=null_counts, palette='rocket')\n",
    "\n",
    "# Set axis labels and title\n",
    "plt.xlabel('Columns')\n",
    "plt.ylabel('Missing Value Counts')\n",
    "plt.title('Missing Value Counts for Each Column')\n",
    "plt.xticks(rotation=90)\n",
    "\n",
    "# Display the plot\n",
    "plt.show()"
   ]
  },
  {
   "cell_type": "code",
   "execution_count": null,
   "id": "750346fb",
   "metadata": {},
   "outputs": [],
   "source": [
    "df.nunique()"
   ]
  },
  {
   "cell_type": "code",
   "execution_count": null,
   "id": "8950327f",
   "metadata": {},
   "outputs": [],
   "source": [
    "# Get unique value counts\n",
    "value_counts = [df[col].nunique() for col in df.columns]\n",
    "\n",
    "# Create a bar plot\n",
    "sns.barplot(x=list(df.columns), y=value_counts, palette='pastel')\n",
    "\n",
    "# Set axis labels and title\n",
    "plt.xlabel('Columns')\n",
    "plt.ylabel('Unique Value Counts')\n",
    "plt.title('Unique Value Counts for Each Column')\n",
    "plt.xticks(rotation=90)\n",
    "\n",
    "# Display the plot\n",
    "plt.show()"
   ]
  },
  {
   "cell_type": "code",
   "execution_count": null,
   "id": "a7d0ff38",
   "metadata": {},
   "outputs": [],
   "source": [
    "create_report(df)"
   ]
  },
  {
   "cell_type": "code",
   "execution_count": null,
   "id": "cb1f3bec",
   "metadata": {},
   "outputs": [],
   "source": [
    "baltimore_shapefile = 'CSA_NSA_tracts.shp'\n",
    "baltimore_data = gps.read_file(baltimore_shapefile)\n",
    "fig, ax = plt.subplots(figsize=(10, 6))\n",
    "baltimore_data.plot(ax=ax, color='white', edgecolor='black')\n",
    "plt.title('Baltimore City', fontsize=16)\n",
    "plt.xlabel('Longitude', fontsize=12)\n",
    "plt.ylabel('Latitude', fontsize=12)\n",
    "\n",
    "plt.show()"
   ]
  },
  {
   "cell_type": "code",
   "execution_count": null,
   "id": "dff038ae",
   "metadata": {},
   "outputs": [],
   "source": [
    "df_geo = gps.GeoDataFrame(df, geometry = gps.points_from_xy(df.longitude, df.latitude))\n",
    "df_geo"
   ]
  },
  {
   "cell_type": "code",
   "execution_count": null,
   "id": "7ee89dac",
   "metadata": {},
   "outputs": [],
   "source": [
    "world_data = gps.read_file(gps.datasets.get_path('naturalearth_lowres'))\n",
    "# Filter to the United States and set figure size\n",
    "US_map = world_data[world_data.iso_a3 == 'USA'].plot(figsize=(10, 6), color='white', edgecolor='black')\n",
    "\n",
    "# Plot geo data on the map\n",
    "df_geo.plot(ax=US_map, color='red', legend=True, markersize=50)\n",
    "\n",
    "# Set title and axis labels\n",
    "plt.title('Locations in the United States', fontsize=16)\n",
    "plt.xlabel('Longitude', fontsize=12)\n",
    "plt.ylabel('Latitude', fontsize=12)\n",
    "\n",
    "plt.show()"
   ]
  },
  {
   "cell_type": "code",
   "execution_count": null,
   "id": "f12d7112",
   "metadata": {},
   "outputs": [],
   "source": [
    "fig, axs = plt.subplots(nrows=1, ncols=2, figsize=(15, 5))\n",
    "\n",
    "sns.boxplot(x='age', data=df, ax=axs[1])\n",
    "axs[1].set_title(\"Age Boxplot\")\n",
    "axs[1].set_ylabel('Age', fontsize=12)\n",
    "\n",
    "sns.histplot(x='age', data=df, bins=100, ax=axs[0])\n",
    "axs[0].set_title(\"Age Histogram\")\n",
    "axs[0].set_xlabel('Age', fontsize=12)\n",
    "axs[0].set_ylabel('Count', fontsize=12)\n",
    "\n",
    "plt.suptitle('Distribution of Age', fontsize=16)\n",
    "plt.show()\n"
   ]
  },
  {
   "cell_type": "code",
   "execution_count": null,
   "id": "f8ed153e",
   "metadata": {},
   "outputs": [],
   "source": [
    "plt.figure(figsize=(8, 6))\n",
    "sns.countplot(y='ethnicity', data=df, palette='Set1')\n",
    "plt.xlabel('Count', fontsize=12)\n",
    "plt.ylabel('Ethnicity', fontsize=12)\n",
    "plt.title('Distribution of Ethnicity', fontsize=16)\n",
    "plt.show()"
   ]
  },
  {
   "cell_type": "code",
   "execution_count": null,
   "id": "3e21ecc1",
   "metadata": {},
   "outputs": [],
   "source": [
    "# Create a figure and axis object\n",
    "fig, ax = plt.subplots(figsize=(8,6))\n",
    "\n",
    "# Plot the bar chart using Seaborn\n",
    "sns.countplot(x='race', data=df, palette='Set2', ax=ax)\n",
    "\n",
    "# Set axis labels and title\n",
    "ax.set_xlabel('Race', fontsize=12)\n",
    "ax.set_ylabel('Count', fontsize=12)\n",
    "ax.set_title('Distribution of Race', fontsize=16)\n",
    "\n",
    "# Rotate the x-axis labels\n",
    "plt.xticks(rotation=45)\n",
    "\n",
    "# Add text labels above each bar\n",
    "for i in ax.patches:\n",
    "    ax.text(i.get_x() + i.get_width() / 2, i.get_height() + 2, \n",
    "            str(i.get_height()), fontsize=11, ha='center')\n",
    "\n",
    "plt.show()"
   ]
  },
  {
   "cell_type": "code",
   "execution_count": null,
   "id": "6ffe117d",
   "metadata": {},
   "outputs": [],
   "source": [
    "# Create a figure and axis object\n",
    "fig, ax = plt.subplots(figsize=(8,6))\n",
    "\n",
    "# Plot the bar chart using Seaborn\n",
    "sns.countplot(x='gender', data=df, palette='Set3', ax=ax)\n",
    "\n",
    "# Set axis labels and title\n",
    "ax.set_xlabel('Gender', fontsize=12)\n",
    "ax.set_ylabel('Count', fontsize=12)\n",
    "ax.set_title('Distribution of Gender', fontsize=16)\n",
    "\n",
    "# Rotate the x-axis labels\n",
    "plt.xticks(rotation=0)\n",
    "\n",
    "# Add text labels above each bar\n",
    "for i in ax.patches:\n",
    "    ax.text(i.get_x() + i.get_width() / 2, i.get_height() + 0.5, \n",
    "            str(i.get_height()), fontsize=10, ha='center')\n",
    "\n",
    "plt.show()"
   ]
  },
  {
   "cell_type": "code",
   "execution_count": null,
   "id": "f82f5c05",
   "metadata": {},
   "outputs": [],
   "source": [
    "# Create a figure and axis object\n",
    "fig, ax = plt.subplots(figsize=(10, 6))\n",
    "\n",
    "# Plot the bar chart using Seaborn\n",
    "sns.countplot(x='description', data=df, palette='crest', ax=ax, order=df['description'].value_counts().index)\n",
    "\n",
    "# Set axis labels and title\n",
    "ax.set_xlabel('Descriptions', fontsize=12)\n",
    "ax.set_ylabel('Count', fontsize=12)\n",
    "ax.set_title('Distribution of Descriptions', fontsize=16)\n",
    "\n",
    "# Rotate the x-axis labels\n",
    "plt.xticks(rotation=90)\n",
    "\n",
    "# Add text labels above each bar\n",
    "for i in ax.patches:\n",
    "    ax.text(i.get_x() + i.get_width() / 2, i.get_height() + 0.5, \n",
    "            str(round(i.get_height(), 2)), fontsize=10, ha='center')\n",
    "\n",
    "plt.show()"
   ]
  },
  {
   "cell_type": "code",
   "execution_count": null,
   "id": "ad273f7c",
   "metadata": {},
   "outputs": [],
   "source": [
    "# Create a figure and axis object\n",
    "fig, ax = plt.subplots(figsize=(10, 6))\n",
    "\n",
    "# Plot the bar chart using Seaborn\n",
    "sns.countplot(x='weapon', data=df, palette='flare', ax=ax, order=df['weapon'].value_counts().index)\n",
    "\n",
    "# Set axis labels and title\n",
    "ax.set_xlabel('Used Weapons', fontsize=12)\n",
    "ax.set_ylabel('Count', fontsize=12)\n",
    "ax.set_title('Distribution of Used Weapons', fontsize=16)\n",
    "\n",
    "# Rotate the x-axis labels\n",
    "plt.xticks(rotation=90)\n",
    "\n",
    "# Add text labels above each bar\n",
    "for i in ax.patches:\n",
    "    ax.text(i.get_x() + i.get_width() / 2, i.get_height() + 0.5, \n",
    "            str(round(i.get_height(), 2)), fontsize=10, ha='center')\n",
    "\n",
    "plt.show()"
   ]
  },
  {
   "cell_type": "code",
   "execution_count": null,
   "id": "92413a59",
   "metadata": {},
   "outputs": [],
   "source": [
    "# Create a figure and axis object\n",
    "fig, ax = plt.subplots(figsize=(8,6))\n",
    "\n",
    "# Plot the bar chart using Seaborn\n",
    "sns.countplot(x='gender', data=df, palette='Set3', ax=ax)\n",
    "\n",
    "# Set axis labels and title\n",
    "ax.set_xlabel('Gender', fontsize=12)\n",
    "ax.set_ylabel('Count', fontsize=12)\n",
    "ax.set_title('Distribution of Gender', fontsize=16)\n",
    "\n",
    "# Rotate the x-axis labels\n",
    "plt.xticks(rotation=0)\n",
    "\n",
    "# Add text labels above each bar\n",
    "for i in ax.patches:\n",
    "    ax.text(i.get_x() + i.get_width() / 2, i.get_height() + 0.5, \n",
    "            str(i.get_height()), fontsize=10, ha='center')\n",
    "\n",
    "plt.show()"
   ]
  },
  {
   "cell_type": "code",
   "execution_count": null,
   "id": "4f909da5",
   "metadata": {},
   "outputs": [],
   "source": [
    "# Set Seaborn style and color palette\n",
    "sns.set_style(\"whitegrid\")\n",
    "sns.set_palette(\"pastel\")\n",
    "\n",
    "# Create a figure and axis object\n",
    "fig, ax = plt.subplots(figsize=(8, 8))\n",
    "\n",
    "# Define colors for the pie chart\n",
    "colors = ['#ff9999','#66b3ff','#99ff99','#ffcc99','#ffb3e6']\n",
    "\n",
    "# Plot the pie chart\n",
    "df[\"district\"].value_counts().plot.pie(autopct='%1.1f%%', startangle=90, colors=colors, ax=ax)\n",
    "\n",
    "# Set axis labels and title\n",
    "ax.set_xlabel('District', fontsize=12)\n",
    "ax.set_ylabel('')\n",
    "ax.set_title('Distribution of Districts', fontsize=16)\n",
    "\n",
    "# Add spacing around the chart\n",
    "plt.tight_layout()\n",
    "\n",
    "plt.show()\n"
   ]
  },
  {
   "cell_type": "code",
   "execution_count": null,
   "id": "4db1b5d2",
   "metadata": {},
   "outputs": [],
   "source": [
    "# Create a dictionary of neighborhood counts\n",
    "neighborhood_counts = dict(df['neighborhood'].value_counts())\n",
    "\n",
    "# Generate word cloud image\n",
    "wordcloud = WordCloud(width = 800, height = 800, background_color ='white', min_font_size = 10, colormap='viridis', max_words=df['neighborhood'].nunique()).generate_from_frequencies(neighborhood_counts)\n",
    "\n",
    "# Display the generated image\n",
    "plt.figure(figsize = (10, 10), facecolor = None)\n",
    "plt.imshow(wordcloud, interpolation='bilinear')\n",
    "plt.axis(\"off\")\n",
    "plt.tight_layout(pad = 0)\n",
    "\n",
    "# Add a title\n",
    "plt.title('Most Common Crime Sites', fontsize=20, pad=20, color='black')\n",
    "\n",
    "# Show the plot\n",
    "plt.show()\n"
   ]
  }
 ],
 "metadata": {
  "kernelspec": {
   "display_name": "Python 3 (ipykernel)",
   "language": "python",
   "name": "python3"
  },
  "language_info": {
   "codemirror_mode": {
    "name": "ipython",
    "version": 3
   },
   "file_extension": ".py",
   "mimetype": "text/x-python",
   "name": "python",
   "nbconvert_exporter": "python",
   "pygments_lexer": "ipython3",
   "version": "3.10.9"
  }
 },
 "nbformat": 4,
 "nbformat_minor": 5
}
